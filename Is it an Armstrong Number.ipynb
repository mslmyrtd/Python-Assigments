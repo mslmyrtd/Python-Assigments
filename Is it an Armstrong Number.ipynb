{
 "cells": [
  {
   "cell_type": "markdown",
   "metadata": {},
   "source": [
    "Task:\n",
    "\n",
    "Find out if a given number is an \"Armstrong Number\".\n",
    "\n",
    "An n-digit number that is the sum of the nth powers of its digits is called an n-Armstrong number. Examples :\n",
    "371 = 33 + 73 + 13;\n",
    "9474 = 94 + 44 + 74 + 44;\n",
    "93084 = 95 + 35 + 05 + 85 + 45.\n",
    "\n",
    "Write a Python program that;\n",
    "1.takes a positive integer number from the user,\n",
    "2.checks the entered number if it is Armstrong,\n",
    "3.consider the negative, float and any entries other than numeric values then display a warning message to the user.\n"
   ]
  },
  {
   "cell_type": "code",
   "execution_count": null,
   "metadata": {},
   "outputs": [],
   "source": [
    "numb = input(\"please enter a positive number :\")\n",
    "result = 0\n",
    "a = len(str(numb))\n",
    "b = numb\n",
    "c = int(float(numb))\n",
    "if b.isdigit():\n",
    "  while c > 0:\n",
    "    digit = c % 10\n",
    "    result  = result + digit**a\n",
    "    c = c//10\n",
    "  print(result)\n",
    "  if b==str(result):\n",
    "    print(numb, \"is an Armstrong number\")\n",
    "  else:\n",
    "    print(numb, \"is not an Armstorng number\" )\n",
    "else:\n",
    "  print(\" It is an invalid entry. Don't use non-numeric, float, or negative values!\")"
   ]
  }
 ],
 "metadata": {
  "kernelspec": {
   "display_name": "Python 3",
   "language": "python",
   "name": "python3"
  },
  "language_info": {
   "codemirror_mode": {
    "name": "ipython",
    "version": 3
   },
   "file_extension": ".py",
   "mimetype": "text/x-python",
   "name": "python",
   "nbconvert_exporter": "python",
   "pygments_lexer": "ipython3",
   "version": "3.8.5"
  }
 },
 "nbformat": 4,
 "nbformat_minor": 4
}
