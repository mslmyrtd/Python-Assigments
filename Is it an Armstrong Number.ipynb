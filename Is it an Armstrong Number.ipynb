{
 "cells": [
  {
   "cell_type": "code",
   "execution_count": null,
   "metadata": {},
   "outputs": [],
   "source": [
    "numb = input(\"please enter a positive number :\")\n",
    "result = 0\n",
    "a = len(str(numb))\n",
    "b = numb\n",
    "c = int(float(numb))\n",
    "if b.isdigit():\n",
    "  while c > 0:\n",
    "    digit = c % 10\n",
    "    result  = result + digit**a\n",
    "    c = c//10\n",
    "  print(result)\n",
    "  if b==str(result):\n",
    "    print(numb, \"is an Armstrong number\")\n",
    "  else:\n",
    "    print(numb, \"is not an Armstorng number\" )\n",
    "else:\n",
    "  print(\" It is an invalid entry. Don't use non-numeric, float, or negative values!\")"
   ]
  }
 ],
 "metadata": {
  "kernelspec": {
   "display_name": "Python 3",
   "language": "python",
   "name": "python3"
  },
  "language_info": {
   "codemirror_mode": {
    "name": "ipython",
    "version": 3
   },
   "file_extension": ".py",
   "mimetype": "text/x-python",
   "name": "python",
   "nbconvert_exporter": "python",
   "pygments_lexer": "ipython3",
   "version": "3.8.5"
  }
 },
 "nbformat": 4,
 "nbformat_minor": 4
}
