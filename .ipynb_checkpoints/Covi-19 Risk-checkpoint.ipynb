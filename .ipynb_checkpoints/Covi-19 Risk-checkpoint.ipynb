{
 "cells": [
  {
   "cell_type": "markdown",
   "metadata": {},
   "source": [
    "Problem :\n",
    "\n",
    "Task : Estimating the risk of death from coronavirus. Write a program that;\n",
    "\n",
    "Takes \"Yes\" or \"No\" from the user as an answer to the following questions :\n",
    "\n",
    "Are you a cigarette addict older than 75 years old? Variable → age\n",
    "\n",
    "Do you have a severe chronic disease? Variable → chronic\n",
    "\n",
    "Is your immune system too weak? Variable → immune\n",
    "\n",
    "Set a logical algorithm using boolean logic operators (and/or) and use if-statements with the given variables in order to print out us a message : \"You are in risky group\"(if True ) or \"You are not in risky group\" (if False).\n"
   ]
  },
  {
   "cell_type": "code",
   "execution_count": null,
   "metadata": {},
   "outputs": [],
   "source": [
    "print(\"Please answer Yes/No to the following questions\")\n",
    "Yes = True\n",
    "No = False\n",
    "age = input(\"Are you a cigarette addict and older than 75 years old? :\").title()==\"Yes\"\n",
    "chronic = input(\"Do you have a severe chronic disease?  :\").title() == \"Yes\"\n",
    "immune = input(\"Is your immune system too weak? :\").title() == \"Yes\"\n",
    "if age or chronic or immune :\n",
    "  print(\"You are in risky group\")\n",
    "else:\n",
    "  print(\"You are not in risky group\")"
   ]
  },
  {
   "cell_type": "code",
   "execution_count": null,
   "metadata": {},
   "outputs": [],
   "source": []
  }
 ],
 "metadata": {
  "kernelspec": {
   "display_name": "Python 3",
   "language": "python",
   "name": "python3"
  },
  "language_info": {
   "codemirror_mode": {
    "name": "ipython",
    "version": 3
   },
   "file_extension": ".py",
   "mimetype": "text/x-python",
   "name": "python",
   "nbconvert_exporter": "python",
   "pygments_lexer": "ipython3",
   "version": "3.8.5"
  }
 },
 "nbformat": 4,
 "nbformat_minor": 4
}
