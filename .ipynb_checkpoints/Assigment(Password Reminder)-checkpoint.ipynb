{
 "cells": [
  {
   "cell_type": "markdown",
   "metadata": {},
   "source": [
    "Task : Let's say; you left a message in the past that prints a password you need. To see the password you wrote, you need to enter your name and the program should recognize you.\n",
    "  Write a program that \n",
    "\n",
    "1.Takes the first name from the user and compares it to yours,\n",
    "2.Then if the name the user entered is the same as yours, print out such as : \"Hello, Joseph! The password is : W@12\",\n",
    "3.If the name the user entered is not the same as yours, print out such as : \"Hello, Amina! See you later.\""
   ]
  },
  {
   "cell_type": "code",
   "execution_count": null,
   "metadata": {},
   "outputs": [],
   "source": [
    "name = input(\"Please enter tour first name :  \").title().split()\n",
    "key_name = \"Joseph\"\n",
    "if name == key_name:\n",
    "    print(\"Hello, Joseph! The password is : W@12\")\n",
    "else:\n",
    "    print(\"Hello, Amina! See you later.\")"
   ]
  }
 ],
 "metadata": {
  "kernelspec": {
   "display_name": "Python 3",
   "language": "python",
   "name": "python3"
  },
  "language_info": {
   "codemirror_mode": {
    "name": "ipython",
    "version": 3
   },
   "file_extension": ".py",
   "mimetype": "text/x-python",
   "name": "python",
   "nbconvert_exporter": "python",
   "pygments_lexer": "ipython3",
   "version": "3.8.5"
  }
 },
 "nbformat": 4,
 "nbformat_minor": 4
}
