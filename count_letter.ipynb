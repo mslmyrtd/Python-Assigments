{
  "nbformat": 4,
  "nbformat_minor": 0,
  "metadata": {
    "colab": {
      "name": "count letter.ipynb",
      "provenance": [],
      "authorship_tag": "ABX9TyOKvniNQjzZbuN0kh7FzoCE",
      "include_colab_link": true
    },
    "kernelspec": {
      "name": "python3",
      "display_name": "Python 3"
    },
    "language_info": {
      "name": "python"
    }
  },
  "cells": [
    {
      "cell_type": "markdown",
      "metadata": {
        "id": "view-in-github",
        "colab_type": "text"
      },
      "source": [
        "<a href=\"https://colab.research.google.com/github/mslmyrtd/Python-Assigments/blob/main/count_letter.ipynb\" target=\"_parent\"><img src=\"https://colab.research.google.com/assets/colab-badge.svg\" alt=\"Open In Colab\"/></a>"
      ]
    },
    {
      "cell_type": "markdown",
      "metadata": {
        "id": "t5LsravZJTva"
      },
      "source": [
        "Task:\n",
        "\n",
        "Count the number of each letter in a sentence.\n",
        "The department you work for undertook a project construction that makes word / text analysis. You are asked to calculate the number of letters or any chars in the sentences entered under this project.\n",
        "Write a Python program that;\n",
        "1.takes a sentence from the user,\n",
        "2.counts the number of each letter of the sentence,\n",
        "3.collects the letters/chars as a key and the counted numbers as a value in a dictionary.\n",
        "\n",
        "\n",
        "\n"
      ]
    },
    {
      "cell_type": "code",
      "metadata": {
        "colab": {
          "base_uri": "https://localhost:8080/"
        },
        "id": "QEsiBNkAJpgJ",
        "outputId": "900dc548-5f16-4a1d-e5f9-96207d262559"
      },
      "source": [
        "def analys(sentence):\n",
        "  a={}\n",
        "  for i in sentence:\n",
        "    a[i]=sentence.count(i)\n",
        "  return(a)\n",
        "\n",
        "sentence=input(\"Please insert a sentence or word :\")\n",
        "print(analys(sentence))"
      ],
      "execution_count": 1,
      "outputs": [
        {
          "output_type": "stream",
          "text": [
            "Please insert a sentence or word :clarusway\n",
            "{'c': 1, 'l': 1, 'a': 2, 'r': 1, 'u': 1, 's': 1, 'w': 1, 'y': 1}\n"
          ],
          "name": "stdout"
        }
      ]
    }
  ]
}